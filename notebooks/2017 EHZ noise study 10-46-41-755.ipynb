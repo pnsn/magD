{
 "cells": [
  {
   "cell_type": "markdown",
   "metadata": {},
   "source": [
    "# Noise Study to look at detection thresholds with and without analog EHZ channels"
   ]
  },
  {
   "cell_type": "markdown",
   "metadata": {},
   "source": [
    "## SQL querries for UW, UO, and CC"
   ]
  },
  {
   "cell_type": "markdown",
   "metadata": {},
   "source": [
    "### 4 channel stations with EHZ and ENZ or HNZ"
   ]
  },
  {
   "cell_type": "markdown",
   "metadata": {},
   "source": [
    "``` psql -h $AWS_POSTGRES_SERVER  -d pnsn_web_production -c \"\\copy (select c1.sta, c1.seedchan, c1.net, c1.location from channels c1, channels c2  where c1.net in ('UW','UO','CC') and c1.sta=c2.sta and c1.seedchan='EHZ' and c2.seedchan in  ('ENZ','HNZ')) to '~/4_component.csv' WITH (FORMAT CSV, HEADER TRUE, FORCE_QUOTE *);\"```"
   ]
  },
  {
   "cell_type": "markdown",
   "metadata": {},
   "source": [
    "### All Broadband"
   ]
  },
  {
   "cell_type": "markdown",
   "metadata": {
    "collapsed": true
   },
   "source": [
    "``` psql -h $AWS_POSTGRES_SERVER  -d pnsn_web_production -c \"\\copy (select sta, seedchan, net, location from channels  where net in ('UW','UO','CC') and  seedchan in  ('BHZ','HHZ')) to '~/all_bb.csv' WITH (FORMAT CSV, HEADER TRUE, FORCE_QUOTE *);\"```"
   ]
  },
  {
   "cell_type": "markdown",
   "metadata": {},
   "source": [
    "###  EHZ  with ENZ or HNZ"
   ]
  },
  {
   "cell_type": "markdown",
   "metadata": {},
   "source": [
    "```psql -h $AWS_POSTGRES_SERVER  -d pnsn_web_production -c \"\\copy (select sta, seedchan, net, location from channels  where net in ('UW','UO','CC') and  seedchan ='EHZ') to '~/ehz.csv' WITH (FORMAT CSV, HEADER TRUE, FORCE_QUOTE *);\" ```"
   ]
  },
  {
   "cell_type": "markdown",
   "metadata": {},
   "source": [
    "## Query FDSN using above CSV and output CSV with location and samprate"
   ]
  },
  {
   "cell_type": "code",
   "execution_count": 6,
   "metadata": {
    "collapsed": false,
    "scrolled": true
   },
   "outputs": [],
   "source": [
    "%run -i ../magD/make_csv.py -i ../csv/2017_EHZ_study/all_bb.csv -o ../csv/2017_EHZ_study/all_bb_fdsn.csv"
   ]
  },
  {
   "cell_type": "code",
   "execution_count": 3,
   "metadata": {
    "collapsed": false
   },
   "outputs": [
    {
     "name": "stdout",
     "output_type": "stream",
     "text": [
      "Query for BLJ:EHZ:UW:-- failed with:HTTP Error 404: Not Found\n"
     ]
    }
   ],
   "source": [
    "%run -i ../magD/make_csv.py -i ../csv/2017_EHZ_study/ehz.csv -o ../csv/2017_EHZ_study/ehz_fdsn.csv%run -i ../magD/make_csv.py -i ../csv/2017_EHZ_study/4_component.csv -o ../csv/2017_EHZ_study/_fdsn.csv"
   ]
  },
  {
   "cell_type": "code",
   "execution_count": 5,
   "metadata": {
    "collapsed": true
   },
   "outputs": [],
   "source": [
    "%run -i ../magD/make_csv.py -i ../csv/2017_EHZ_study/4_component.csv -o ../csv/2017_EHZ_study/4_component_fdsn.csv"
   ]
  },
  {
   "cell_type": "markdown",
   "metadata": {},
   "source": [
    "### Run magD with the above csv files"
   ]
  },
  {
   "cell_type": "markdown",
   "metadata": {},
   "source": [
    "#### Run 1: All EHZ, BHZ, and HHZ"
   ]
  },
  {
   "cell_type": "code",
   "execution_count": null,
   "metadata": {
    "collapsed": true
   },
   "outputs": [],
   "source": []
  }
 ],
 "metadata": {
  "anaconda-cloud": {},
  "kernelspec": {
   "display_name": "Python [Root]",
   "language": "python",
   "name": "Python [Root]"
  },
  "language_info": {
   "codemirror_mode": {
    "name": "ipython",
    "version": 3
   },
   "file_extension": ".py",
   "mimetype": "text/x-python",
   "name": "python",
   "nbconvert_exporter": "python",
   "pygments_lexer": "ipython3",
   "version": "3.5.2"
  }
 },
 "nbformat": 4,
 "nbformat_minor": 2
}
